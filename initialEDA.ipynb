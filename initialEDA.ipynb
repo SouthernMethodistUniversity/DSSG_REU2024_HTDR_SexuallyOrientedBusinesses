{
 "cells": [
  {
   "cell_type": "code",
   "execution_count": null,
   "id": "610342f7-a8f4-410d-92fa-6bfb05ce2bbb",
   "metadata": {},
   "outputs": [],
   "source": [
    "import pandas as pd\n",
    "import numpy as np\n",
    "from statsmodels.stats.outliers_influence import variance_inflation_factor\n",
    "from sklearn.preprocessing import StandardScaler\n",
    "from sklearn.cluster import KMeans\n",
    "from sklearn.decomposition import PCA\n",
    "from functools import reduce"
   ]
  },
  {
   "cell_type": "markdown",
   "id": "d981da22-0234-48c1-8e64-e00b36b44feb",
   "metadata": {},
   "source": [
    "### Merging CSV files by county"
   ]
  },
  {
   "cell_type": "code",
   "execution_count": null,
   "id": "44901b9b-a29c-4526-8b8e-9f08ef82601b",
   "metadata": {},
   "outputs": [],
   "source": [
    "\n",
    "# Merge on 'name_and_fips'\n",
    "\n",
    "# casino_count.csv\n",
    "# 'name_and_fips',\n",
    "# 'casino_point_count'\n",
    "# 'GEOID'\n",
    "\n",
    "casino = pd.read_csv('yourpath.csv')\n",
    "\n",
    "# HT_SOB_count.csv\n",
    "# 'name_and_fips',\n",
    "# 'SOB_point_count'\n",
    "# 'GEOID'\n",
    "\n",
    "sob = pd.read_csv('yourpath.csv')\n",
    "\n",
    "# censusdata.csv\n",
    "# includes both nibrs and census variables\n",
    "# 'name_and_fips',\n",
    "# 'GEOID'\n",
    "# 'HT_incident_count'\n",
    "# 'County_State'\n",
    "# 'Below Poverty Level Rate'\n",
    "# 'Population Density'\n",
    "# 'Median Household Income'\n",
    "\n",
    "census = pd.read_csv('yourpath.csv')\n",
    "\n",
    "#highway_count.csv\n",
    "# 'name_and_fips',\n",
    "# 'GEOID',\n",
    "#'highway_count'\n",
    "highway = pd.read_csv('yourpath.csv')\n",
    "\n",
    "#airport_counts.csv\n",
    "# 'name_and_fips',\n",
    "# 'GEOID'\n",
    "#'medlarge_airport_count'\n",
    "\n",
    "airport = pd.read_csv('yourpath.csv')\n",
    "\n",
    "\n",
    "#census2.csv\n",
    "# 'GEOID'\n",
    "# 'County_State'\n",
    "# 'Below Poverty Level'\n",
    "# 'Total Population'\n",
    "# 'Median Household Income'\n",
    "census2 = pd.read_csv('yourpath.csv')"
   ]
  },
  {
   "cell_type": "code",
   "execution_count": null,
   "id": "ecee4643-99de-4165-b194-571ef44cca8b",
   "metadata": {},
   "outputs": [],
   "source": [
    "#merging dataframes, calling on only specific columns\n",
    "#census 3193\n",
    "#merged_df \n",
    "merged_df = census[['GEOID', 'name_and_fips', 'ALAND', 'HT_incident_count']].merge(\n",
    "    highway[['GEOID', 'highway_count']], on='GEOID', how='left')\n",
    "#1400\n",
    "merged_df = merged_df.merge(\n",
    "    airport[['GEOID', 'medlarge_airport_count']], on='GEOID', how='left')\n",
    "#444\n",
    "merged_df = merged_df.merge(\n",
    "    sob[['GEOID', 'SOB_point_count']], on='GEOID', how='left')\n",
    "\n",
    "merged_df = merged_df.merge(\n",
    "    casino[['GEOID', 'casino_point_count']], on='GEOID', how='left')\n",
    "merged_df = merged_df.merge(\n",
    "    census2[['GEOID', 'County_State', 'Below Poverty Level', 'Total Population','Median Household Income']], on='GEOID', how='left')\n",
    "merged_df.head()"
   ]
  },
  {
   "cell_type": "code",
   "execution_count": null,
   "id": "52f7a81e-9e7c-4c93-b628-4119b802ab17",
   "metadata": {},
   "outputs": [],
   "source": [
    "# Replace NaN with 0 in column 'A'\n",
    "merged_df['medlarge_airport_count'] = merged_df['medlarge_airport_count'].fillna(0)\n",
    "merged_df['highway_count'] = merged_df['highway_count'].fillna(0)\n",
    "merged_df['HT_incident_count'] = merged_df['HT_incident_count'].fillna(0)\n",
    "merged_df['casino_point_count'] = merged_df['casino_point_count'].fillna(0)\n",
    "#calculate pov rate and population density\n",
    "merged_df['Population Density'] = merged_df['Total Population']/merged_df['ALAND'] * 100\n",
    "merged_df['Below Poverty Level Rate'] = merged_df['Below Poverty Level'] / merged_df['Total Population'] * 100\n",
    "merged_df"
   ]
  },
  {
   "cell_type": "markdown",
   "id": "0283e570-a30c-4a7f-8273-3f23405b2cb9",
   "metadata": {},
   "source": [
    "### Initial Exploratory Data Analysis"
   ]
  },
  {
   "cell_type": "code",
   "execution_count": null,
   "id": "4e5d861e-dca5-49cb-9f89-76418d584f6e",
   "metadata": {},
   "outputs": [],
   "source": [
    "pca = merged_df[merged_df['SOB_point_count'].notna()]"
   ]
  },
  {
   "cell_type": "code",
   "execution_count": null,
   "id": "f6cdf666-364a-467b-811b-dabd977d6059",
   "metadata": {},
   "outputs": [],
   "source": [
    "#first attempted pearson correlation matrices on original dataset (29 counties)\n",
    "import seaborn as sns\n",
    "import matplotlib.pyplot as plt\n",
    "import pandas as pd\n",
    "import numpy as np\n",
    "\n",
    "# Assuming 'pca' is your DataFrame containing the columns of interest\n",
    "columns_of_interest = ['HT_incident_count', 'highway_count', \n",
    "                       'medlarge_airport_count', 'SOB_point_count', \n",
    "                       'casino_point_count', 'Median Household Income', \n",
    "                       'Population Density', 'Below Poverty Level Rate']\n",
    "\n",
    "# Subset your DataFrame 'pca' to include only the columns of interest\n",
    "subset_pca = pca[columns_of_interest]\n",
    "\n",
    "# Pairwise plot using seaborn\n",
    "sns.pairplot(subset_pca)\n",
    "plt.show()"
   ]
  },
  {
   "cell_type": "code",
   "execution_count": null,
   "id": "ce225daa-c82a-4800-9e19-1ea1abbedf37",
   "metadata": {},
   "outputs": [],
   "source": [
    "#scatterplot for casinos against human trafficking incidents\n",
    "# Filter out rows where 'County_State' is 'Los Angeles, CA'\n",
    "casino_ht = pca[pca['HT_incident_count'] < 100]\n",
    "# casino_ht\n",
    "# Scatter plot\n",
    "plt.figure(figsize=(8, 6))\n",
    "plt.scatter(casino_ht['HT_incident_count'], casino_ht['casino_point_count'])\n",
    "plt.title('Scatter Plot: Casinos vs HT Incidents')\n",
    "plt.xlabel('HT_incident_count')\n",
    "plt.ylabel('casino_point_count')\n",
    "plt.grid(True)\n",
    "plt.show()"
   ]
  },
  {
   "cell_type": "code",
   "execution_count": null,
   "id": "a77badbc-a28d-47e4-b18c-6a8a64e9792a",
   "metadata": {},
   "outputs": [],
   "source": [
    "# casinos against SOB frequency by county\n",
    "Filter out rows where 'County_State' is 'Los Angeles, CA'\n",
    "casino_sob = pca[pca['SOB_point_count'] < 80]\n",
    "#casino_ht\n",
    "# Scatter plot\n",
    "plt.figure(figsize=(8, 6))\n",
    "plt.scatter(casino_sob['SOB_point_count'], casino_sob['casino_point_count'])\n",
    "plt.title('Scatter Plot: Casinos vs SOBs')\n",
    "plt.xlabel('SOB_point_count')\n",
    "plt.ylabel('casino_point_count')\n",
    "plt.grid(True)\n",
    "plt.show()"
   ]
  },
  {
   "cell_type": "code",
   "execution_count": null,
   "id": "c102bad8-1094-4514-ab0b-a0521e01faed",
   "metadata": {},
   "outputs": [],
   "source": [
    "#-----------------scatterplots of HT incidents against all other data------------------\n",
    "#removing major outliers\n",
    "filtered_df = pca[(pca['HT_incident_count'] <= 100) & (pca['HT_incident_count'] != 0)]\n",
    "\n",
    "# Fixed variable for comparison\n",
    "fixed_variable = 'HT_incident_count'\n",
    "\n",
    "# List of variables to plot against the fixed variable\n",
    "variables = ['highway_count', \n",
    "                       'medlarge_airport_count', 'SOB_point_count', \n",
    "                       'casino_point_count', 'Median Household Income', \n",
    "                       'Population Density', 'Below Poverty Level Rate']\n",
    "\n",
    "# Create a figure with 1 row and 7 columns\n",
    "fig, axs = plt.subplots(1, len(variables), figsize=(20, 5))\n",
    "\n",
    "# Iterate through each variable and create a scatter plot\n",
    "for i, var in enumerate(variables):\n",
    "    axs[i].scatter(filtered_df[fixed_variable], filtered_df[var])\n",
    "    axs[i].set_title(f'{var}')\n",
    "    axs[i].set_xlabel(fixed_variable)\n",
    "    axs[i].set_ylabel(var)\n",
    "\n",
    "# Adjust layout\n",
    "plt.tight_layout()\n",
    "plt.show()\n",
    "\n",
    "#next steps: remove points with 0 human trafficking incidents"
   ]
  },
  {
   "cell_type": "code",
   "execution_count": null,
   "id": "a925f828-4d3a-4b9a-9278-d1b7257de02a",
   "metadata": {},
   "outputs": [],
   "source": [
    "# Scatter plot of number of highways against number of sobs by county\n",
    "plt.figure(figsize=(8, 6))\n",
    "plt.scatter(merged_df['HT_incident_count'], merged_df['highway_count'])\n",
    "plt.title('Scatter Plot: Highways vs SOBs')\n",
    "plt.xlabel('HT_incident_count')\n",
    "plt.ylabel('highway_count')\n",
    "plt.grid(True)\n",
    "plt.show()"
   ]
  },
  {
   "cell_type": "code",
   "execution_count": null,
   "id": "3c74901e-61db-40eb-9c60-9ca145a77778",
   "metadata": {},
   "outputs": [],
   "source": [
    "# Scatter plot of HT incident by county versus povery level (not normalized for population)\n",
    "plt.figure(figsize=(8, 6))\n",
    "plt.scatter(merged_df['HT_incident_count'], merged_df['Below Poverty Level Rate'])\n",
    "plt.title('Scatter Plot: HT Incidents vs Poverty Level')\n",
    "plt.xlabel('HT_incident_count')\n",
    "plt.ylabel('Below Poverty Level Rate')\n",
    "plt.grid(True)\n",
    "plt.show()"
   ]
  }
 ],
 "metadata": {
  "kernelspec": {
   "display_name": "Python 3 (ipykernel)",
   "language": "python",
   "name": "python3"
  },
  "language_info": {
   "codemirror_mode": {
    "name": "ipython",
    "version": 3
   },
   "file_extension": ".py",
   "mimetype": "text/x-python",
   "name": "python",
   "nbconvert_exporter": "python",
   "pygments_lexer": "ipython3",
   "version": "3.11.0rc1"
  }
 },
 "nbformat": 4,
 "nbformat_minor": 5
}
