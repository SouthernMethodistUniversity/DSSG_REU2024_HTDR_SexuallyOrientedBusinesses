{
 "cells": [
  {
   "cell_type": "markdown",
   "id": "5cf0b65d-32c2-4c92-b984-e08ccc3fcc4c",
   "metadata": {},
   "source": [
    "### Import modules"
   ]
  },
  {
   "cell_type": "code",
   "execution_count": null,
   "id": "901f3c79-03df-4253-a601-9ca6c0c93e6a",
   "metadata": {},
   "outputs": [],
   "source": [
    "import pandas as pd"
   ]
  },
  {
   "cell_type": "code",
   "execution_count": null,
   "id": "ec184646-48ca-44ac-a88e-0a3e9dd15307",
   "metadata": {},
   "outputs": [],
   "source": [
    "pip install geopandas matplotlib"
   ]
  },
  {
   "cell_type": "markdown",
   "id": "3afaa554-7045-47d5-8833-12a3b41816e5",
   "metadata": {},
   "source": [
    "### Read in and get rates for 2022"
   ]
  },
  {
   "cell_type": "code",
   "execution_count": null,
   "id": "959d08cf-1108-4ff0-9984-2bcdf165c4ab",
   "metadata": {},
   "outputs": [],
   "source": [
    "agency = pd.read_csv('agencies-2000-2022.csv')\n",
    "new_agency = pd.read_csv('agencies-2000-2022.csv')"
   ]
  },
  {
   "cell_type": "code",
   "execution_count": null,
   "id": "b73af132-9b32-46a7-9857-e1e804cb41ae",
   "metadata": {},
   "outputs": [],
   "source": [
    "agency = agency[agency['data_year'] == 2022]"
   ]
  },
  {
   "cell_type": "code",
   "execution_count": null,
   "id": "7106fe05-3fd8-44e9-8773-711ae0a2b252",
   "metadata": {},
   "outputs": [],
   "source": [
    "state_population_sum = agency.groupby(['state_id', 'state_abbr'])['population'].sum().reset_index()\n",
    "state_population_sum"
   ]
  },
  {
   "cell_type": "code",
   "execution_count": null,
   "id": "054fb20b-ee4b-43fb-a005-c58fad968ea5",
   "metadata": {},
   "outputs": [],
   "source": [
    "totalpop = pd.read_csv('~/County_Comparisons/census2.csv')\n",
    "totalpop = totalpop.groupby('state')['Total Population'].sum()"
   ]
  },
  {
   "cell_type": "code",
   "execution_count": null,
   "id": "bfdc59a3-4f8f-4bd3-917e-3aa6529112e4",
   "metadata": {},
   "outputs": [],
   "source": [
    "# Merge the DataFrames on the 'state_abbr' column\n",
    "perc_totalpop = pd.merge(totalpop, state_population_sum, left_on='state', right_on='state_id')\n",
    "\n",
    "perc_totalpop['percentage_of_pop'] = perc_totalpop['population'] / perc_totalpop['Total Population']\n",
    "perc_totalpop"
   ]
  },
  {
   "cell_type": "code",
   "execution_count": null,
   "id": "8b88e1dd-5ade-4d9d-ae55-a1fe73b73bf2",
   "metadata": {},
   "outputs": [],
   "source": [
    "participate = agency[agency['nibrs_participated'] == 'Y'].groupby(['state_id', 'state_abbr'])['population'].sum().reset_index()\n",
    "\n",
    "participate = pd.merge(perc_totalpop, participate, left_on='state_id', right_on='state_id')\n",
    "#population_y = yes, covered and reported\n",
    "#population_x = sum of population by state covered by each agency identified  by nibrs\n",
    "participate['rate_covered_reported'] = participate['population_y'] / participate['population_x']\n",
    "participate = participate.sort_values(by='rate_covered_reported', ascending=True)\n",
    "participate"
   ]
  },
  {
   "cell_type": "markdown",
   "id": "13a89613-00e0-4489-8374-71e2b1e5674d",
   "metadata": {},
   "source": [
    "### Mapping 2022 participation rates"
   ]
  },
  {
   "cell_type": "code",
   "execution_count": null,
   "id": "de75a347-c0de-43b9-88d4-4d08e22c4995",
   "metadata": {},
   "outputs": [],
   "source": [
    "import geopandas as gpd\n",
    "import matplotlib.pyplot as plt\n",
    "\n",
    "# Load shapefile for US states\n",
    "# Replace 'path_to_shapefile' with the path to your shapefile\n",
    "us_states = gpd.read_file('~/NIBRS_2/States_Shapefile/States_shapefile.shp')\n",
    "\n",
    "\n",
    "# Merge GeoDataFrame us_states with participate DataFrame based on 'State_Code'\n",
    "merged = pd.merge(us_states, participate, left_on='State_Code', right_on='state_abbr_x')\n",
    "\n",
    "# Plotting\n",
    "fig, ax = plt.subplots(1, 1, figsize=(10, 8))\n",
    "merged.plot(column='rate_covered_reported', cmap='Reds', linewidth=0.8, ax=ax, edgecolor='0.8', legend=True,\n",
    "            legend_kwds={'label': \"Percentage\", 'orientation': \"horizontal\"})\n",
    "ax.set_title('Percentage per State Heatmap')\n",
    "ax.set_axis_off()\n",
    "plt.show()"
   ]
  },
  {
   "cell_type": "markdown",
   "id": "f4fb95fa-561e-40b0-8bb5-0ae19dc4ef89",
   "metadata": {},
   "source": [
    "### Identfying cities of interest to connect to counties"
   ]
  },
  {
   "cell_type": "code",
   "execution_count": null,
   "id": "3a0886aa-0044-44c9-9aeb-3cab7c539d32",
   "metadata": {},
   "outputs": [],
   "source": [
    "cities = pd.read_csv('uscities.csv')"
   ]
  },
  {
   "cell_type": "code",
   "execution_count": null,
   "id": "80101281-6467-409e-a0c0-fbe1432eaf62",
   "metadata": {},
   "outputs": [],
   "source": [
    "#identifying cities within the states that should be studied (greater than 100000 population size)\n",
    "# List of state IDs to exclude\n",
    "#states with less than 80% of population covered by agencies reporting\n",
    "\n",
    "exclude_states = ['NY', 'FL', 'PA', 'CA', 'AK', 'NJ', 'MS', 'AZ', 'NE', 'LA', 'WY', 'MD', #below 80%\n",
    "                  'IL', 'IN', 'NM','HI','WV','SD','KS','AL','GA','PR'] #below 90%\n",
    "\n",
    "# Filter cities by size\n",
    "#According to the NCES Locale Classifications and Criteria, a mid-sized city is a territory \n",
    "# within a principal city and urbanized area with a population between 100,000 and 250,000 people.\n",
    "cities = cities[(cities['population'] > 100000) & (~cities['state_id'].isin(exclude_states))]\n",
    "cities = cities.sort_values(by='population', ascending=False)\n",
    "cities['CityState'] = cities['city_ascii'] + ',' + cities['state_id']\n",
    "cities['CityState'] = cities['CityState'].str.replace(\" \", \"\")\n",
    "cities\n",
    "cities.to_csv('cities.csv')"
   ]
  },
  {
   "cell_type": "code",
   "execution_count": null,
   "id": "3638a117-302f-4a92-ad65-248e2257ba31",
   "metadata": {},
   "outputs": [],
   "source": [
    "city_state_list = cities['CityState'].tolist()\n",
    "city_state_list"
   ]
  },
  {
   "cell_type": "markdown",
   "id": "331bc766-7689-400f-966c-ddc8ad50cfce",
   "metadata": {},
   "source": [
    "### NIBRS participation rates by state 2019-2021"
   ]
  },
  {
   "cell_type": "code",
   "execution_count": null,
   "id": "051b8d37-314b-4ee2-bbdf-4cb544a72b7b",
   "metadata": {},
   "outputs": [],
   "source": [
    "### Get participation rates by state as a function of population covered for 2021\n",
    "new_agency = pd.read_csv('agencies-2000-2022.csv')\n",
    "agency_2021 = new_agency[new_agency['data_year'] == 2021]\n",
    "\n",
    "state_population_sum_2021 = agency_2021.groupby(['state_id', 'state_abbr'])['population'].sum().reset_index()\n",
    "state_population_sum_2021\n",
    "\n",
    "participate_2021 = agency_2021[agency_2021['nibrs_participated'] == 'Y'].groupby(['state_id', 'state_abbr'])['population'].sum().reset_index()\n",
    "\n",
    "participate_2021 = pd.merge(perc_totalpop, participate_2021, left_on='state_id', right_on='state_id')\n",
    "#population_y = yes, covered and reported\n",
    "#population_x = sum of population by state covered by each agency identified  by nibrs\n",
    "participate_2021['rate_covered_reported'] = participate_2021['population_y'] / participate_2021['population_x']\n",
    "participate_2021 = participate_2021.sort_values(by='rate_covered_reported', ascending=True)\n",
    "participate_2021"
   ]
  },
  {
   "cell_type": "code",
   "execution_count": null,
   "id": "2dd3d25e-7900-4f24-b869-cbcd28711068",
   "metadata": {},
   "outputs": [],
   "source": [
    "# 'NY', 'FL', 'PA', 'CA', 'AK', 'NJ', 'MS', 'AZ', 'NE', 'LA', 'WY', 'MD', #below 80%\n",
    "#                   'IL', 'IN', 'NM','HI','WV','SD','KS','AL','GA','PR' #below 90%\n",
    "# #for 2021, WV is the only one included in analysis that is not over 90%"
   ]
  },
  {
   "cell_type": "code",
   "execution_count": null,
   "id": "f5df55c5-9428-49f7-8ac3-c67fbcab58d7",
   "metadata": {},
   "outputs": [],
   "source": [
    "agency_2020 = new_agency[new_agency['data_year'] == 2020]\n",
    "\n",
    "state_population_sum_2020 = agency_2020.groupby(['state_id', 'state_abbr'])['population'].sum().reset_index()\n",
    "state_population_sum_2020\n",
    "\n",
    "participate_2020 = agency_2020[agency_2020['nibrs_participated'] == 'Y'].groupby(['state_id', 'state_abbr'])['population'].sum().reset_index()\n",
    "\n",
    "participate_2020 = pd.merge(perc_totalpop, participate_2020, left_on='state_id', right_on='state_id')\n",
    "#population_y = yes, covered and reported\n",
    "#population_x = sum of population by state covered by each agency identified  by nibrs\n",
    "participate_2020['rate_covered_reported'] = participate_2020['population_y'] / participate_2020['population_x']\n",
    "participate_2020 = participate_2020.sort_values(by='rate_covered_reported', ascending=True)\n",
    "participate_2020"
   ]
  },
  {
   "cell_type": "code",
   "execution_count": null,
   "id": "16d517ea-21eb-4572-a1ef-894f8d09a067",
   "metadata": {},
   "outputs": [],
   "source": [
    "agency_2019 = new_agency[new_agency['data_year'] == 2019]\n",
    "\n",
    "state_population_sum_2019 = agency_2019.groupby(['state_id', 'state_abbr'])['population'].sum().reset_index()\n",
    "state_population_sum_2019\n",
    "\n",
    "participate_2019 = agency_2019[agency_2019['nibrs_participated'] == 'Y'].groupby(['state_id', 'state_abbr'])['population'].sum().reset_index()\n",
    "\n",
    "participate_2019 = pd.merge(perc_totalpop, participate_2019, left_on='state_id', right_on='state_id')\n",
    "#population_y = yes, covered and reported\n",
    "#population_x = sum of population by state covered by each agency identified  by nibrs\n",
    "participate_2019['rate_covered_reported'] = participate_2019['population_y'] / participate_2019['population_x']\n",
    "participate_2019 = participate_2019.sort_values(by='rate_covered_reported', ascending=True)\n",
    "participate_2019"
   ]
  }
 ],
 "metadata": {
  "kernelspec": {
   "display_name": "Python 3 (ipykernel)",
   "language": "python",
   "name": "python3"
  },
  "language_info": {
   "codemirror_mode": {
    "name": "ipython",
    "version": 3
   },
   "file_extension": ".py",
   "mimetype": "text/x-python",
   "name": "python",
   "nbconvert_exporter": "python",
   "pygments_lexer": "ipython3",
   "version": "3.11.0rc1"
  }
 },
 "nbformat": 4,
 "nbformat_minor": 5
}
