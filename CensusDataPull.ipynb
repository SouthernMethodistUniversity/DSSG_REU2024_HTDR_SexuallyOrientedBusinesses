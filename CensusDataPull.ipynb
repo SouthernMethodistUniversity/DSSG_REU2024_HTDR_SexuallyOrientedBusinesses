{
 "cells": [
  {
   "cell_type": "code",
   "execution_count": 2,
   "id": "58edbf8a-dced-4bf3-b4e8-d8b8d12fa910",
   "metadata": {},
   "outputs": [
    {
     "name": "stdout",
     "output_type": "stream",
     "text": [
      "Defaulting to user installation because normal site-packages is not writeable\n",
      "Requirement already satisfied: cenpy in /users/eyenawine/.local/lib/python3.11/site-packages (1.0.1)\n",
      "Requirement already satisfied: numpy in /usr/local/lib/python3.11/dist-packages (from cenpy) (1.26.4)\n",
      "Requirement already satisfied: six in /usr/local/lib/python3.11/dist-packages (from cenpy) (1.16.0)\n",
      "Requirement already satisfied: pandas in /usr/local/lib/python3.11/dist-packages (from cenpy) (2.2.2)\n",
      "Requirement already satisfied: requests in /usr/local/lib/python3.11/dist-packages (from cenpy) (2.32.3)\n",
      "Requirement already satisfied: fuzzywuzzy in /users/eyenawine/.local/lib/python3.11/site-packages (from cenpy) (0.18.0)\n",
      "Requirement already satisfied: libpysal in /users/eyenawine/.local/lib/python3.11/site-packages (from cenpy) (4.11.0)\n",
      "Requirement already satisfied: geopandas in /users/eyenawine/.local/lib/python3.11/site-packages (from cenpy) (0.14.4)\n",
      "Requirement already satisfied: rtree in /users/eyenawine/.local/lib/python3.11/site-packages (from cenpy) (1.2.0)\n",
      "Requirement already satisfied: fiona>=1.8.21 in /users/eyenawine/.local/lib/python3.11/site-packages (from geopandas->cenpy) (1.9.6)\n",
      "Requirement already satisfied: packaging in /usr/local/lib/python3.11/dist-packages (from geopandas->cenpy) (24.1)\n",
      "Requirement already satisfied: shapely>=1.8.0 in /users/eyenawine/.local/lib/python3.11/site-packages (from geopandas->cenpy) (2.0.4)\n",
      "Requirement already satisfied: pyproj>=3.3.0 in /users/eyenawine/.local/lib/python3.11/site-packages (from geopandas->cenpy) (3.6.1)\n",
      "Requirement already satisfied: pytz>=2020.1 in /usr/local/lib/python3.11/dist-packages (from pandas->cenpy) (2024.1)\n",
      "Requirement already satisfied: tzdata>=2022.7 in /usr/local/lib/python3.11/dist-packages (from pandas->cenpy) (2024.1)\n",
      "Requirement already satisfied: python-dateutil>=2.8.2 in /usr/local/lib/python3.11/dist-packages (from pandas->cenpy) (2.9.0.post0)\n",
      "Requirement already satisfied: scipy>=1.8 in /usr/local/lib/python3.11/dist-packages (from libpysal->cenpy) (1.13.1)\n",
      "Requirement already satisfied: beautifulsoup4>=4.10 in /usr/local/lib/python3.11/dist-packages (from libpysal->cenpy) (4.12.3)\n",
      "Requirement already satisfied: scikit-learn>=1.1 in /usr/local/lib/python3.11/dist-packages (from libpysal->cenpy) (1.5.0)\n",
      "Requirement already satisfied: platformdirs>=2.0.2 in /usr/local/lib/python3.11/dist-packages (from libpysal->cenpy) (4.2.2)\n",
      "Requirement already satisfied: charset-normalizer<4,>=2 in /usr/local/lib/python3.11/dist-packages (from requests->cenpy) (3.3.2)\n",
      "Requirement already satisfied: idna<4,>=2.5 in /usr/local/lib/python3.11/dist-packages (from requests->cenpy) (3.7)\n",
      "Requirement already satisfied: urllib3<3,>=1.21.1 in /usr/local/lib/python3.11/dist-packages (from requests->cenpy) (2.2.1)\n",
      "Requirement already satisfied: certifi>=2017.4.17 in /usr/local/lib/python3.11/dist-packages (from requests->cenpy) (2024.6.2)\n",
      "Requirement already satisfied: soupsieve>1.2 in /usr/local/lib/python3.11/dist-packages (from beautifulsoup4>=4.10->libpysal->cenpy) (2.5)\n",
      "Requirement already satisfied: click~=8.0 in /usr/local/lib/python3.11/dist-packages (from fiona>=1.8.21->geopandas->cenpy) (8.1.7)\n",
      "Requirement already satisfied: click-plugins>=1.0 in /users/eyenawine/.local/lib/python3.11/site-packages (from fiona>=1.8.21->geopandas->cenpy) (1.1.1)\n",
      "Requirement already satisfied: attrs>=19.2.0 in /usr/local/lib/python3.11/dist-packages (from fiona>=1.8.21->geopandas->cenpy) (23.2.0)\n",
      "Requirement already satisfied: cligj>=0.5 in /users/eyenawine/.local/lib/python3.11/site-packages (from fiona>=1.8.21->geopandas->cenpy) (0.7.2)\n",
      "Requirement already satisfied: joblib>=1.2.0 in /usr/local/lib/python3.11/dist-packages (from scikit-learn>=1.1->libpysal->cenpy) (1.4.2)\n",
      "Requirement already satisfied: threadpoolctl>=3.1.0 in /usr/local/lib/python3.11/dist-packages (from scikit-learn>=1.1->libpysal->cenpy) (3.5.0)\n",
      "Note: you may need to restart the kernel to use updated packages.\n"
     ]
    }
   ],
   "source": [
    "pip install cenpy"
   ]
  },
  {
   "cell_type": "code",
   "execution_count": 3,
   "id": "8ee583ed-ad02-4ded-b0d7-7b876d009ae3",
   "metadata": {},
   "outputs": [
    {
     "name": "stdout",
     "output_type": "stream",
     "text": [
      "Name: cenpy\n",
      "Version: 1.0.1\n",
      "Summary: Explore and download data from Census APIs\n",
      "Home-page: https://github.com/cenpy-devs/cenpy\n",
      "Author: Levi John Wolf\n",
      "Author-email: levi.john.wolf@gmail.com\n",
      "License: 3-Clause BSD\n",
      "Location: /users/eyenawine/.local/lib/python3.11/site-packages\n",
      "Requires: fuzzywuzzy, geopandas, libpysal, numpy, pandas, requests, rtree, six\n",
      "Required-by: \n",
      "Note: you may need to restart the kernel to use updated packages.\n"
     ]
    }
   ],
   "source": [
    "pip show cenpy"
   ]
  },
  {
   "cell_type": "code",
   "execution_count": 4,
   "id": "6f2819b6-f723-4bcc-9ee4-57d0472a8070",
   "metadata": {},
   "outputs": [
    {
     "name": "stdout",
     "output_type": "stream",
     "text": [
      "Defaulting to user installation because normal site-packages is not writeable\n",
      "Requirement already satisfied: census in /users/eyenawine/.local/lib/python3.11/site-packages (0.8.22)\n",
      "Requirement already satisfied: requests>=1.1.0 in /usr/local/lib/python3.11/dist-packages (from census) (2.32.3)\n",
      "Requirement already satisfied: idna<4,>=2.5 in /usr/local/lib/python3.11/dist-packages (from requests>=1.1.0->census) (3.7)\n",
      "Requirement already satisfied: certifi>=2017.4.17 in /usr/local/lib/python3.11/dist-packages (from requests>=1.1.0->census) (2024.6.2)\n",
      "Requirement already satisfied: urllib3<3,>=1.21.1 in /usr/local/lib/python3.11/dist-packages (from requests>=1.1.0->census) (2.2.1)\n",
      "Requirement already satisfied: charset-normalizer<4,>=2 in /usr/local/lib/python3.11/dist-packages (from requests>=1.1.0->census) (3.3.2)\n",
      "Note: you may need to restart the kernel to use updated packages.\n"
     ]
    }
   ],
   "source": [
    "pip install census"
   ]
  },
  {
   "cell_type": "code",
   "execution_count": 5,
   "id": "8fd07bfe-c5f6-4092-95b1-41d6d578a707",
   "metadata": {},
   "outputs": [
    {
     "name": "stdout",
     "output_type": "stream",
     "text": [
      "Defaulting to user installation because normal site-packages is not writeable\n",
      "Requirement already satisfied: us in /users/eyenawine/.local/lib/python3.11/site-packages (3.1.1)\n",
      "Requirement already satisfied: jellyfish==0.11.2 in /users/eyenawine/.local/lib/python3.11/site-packages (from us) (0.11.2)\n",
      "Note: you may need to restart the kernel to use updated packages.\n"
     ]
    }
   ],
   "source": [
    "pip install us"
   ]
  },
  {
   "cell_type": "code",
   "execution_count": 6,
   "id": "ba8f3852-5993-451f-8526-c87eda7e86d6",
   "metadata": {},
   "outputs": [],
   "source": [
    "#-------------------------------------------------Import modules----------------------------------------------------------------------------------\n",
    "import matplotlib.pyplot as plt\n",
    "import pandas as pd\n",
    "import geopandas as gpd\n",
    "from census import Census\n",
    "from us import states\n",
    "import os\n",
    "import requests\n",
    "%config InlineBackend.figure_format ='retina'"
   ]
  },
  {
   "cell_type": "code",
   "execution_count": 7,
   "id": "9cb9e5d4-ab80-4da7-8a75-3857ce109d00",
   "metadata": {},
   "outputs": [
    {
     "name": "stdout",
     "output_type": "stream",
     "text": [
      "Collecting the data for : Alabama (FIPS: 01)\n",
      "Collecting the data for : Alaska (FIPS: 02)\n",
      "Collecting the data for : Arizona (FIPS: 04)\n",
      "Collecting the data for : Arkansas (FIPS: 05)\n",
      "Collecting the data for : California (FIPS: 06)\n",
      "Collecting the data for : Colorado (FIPS: 08)\n",
      "Collecting the data for : Connecticut (FIPS: 09)\n",
      "Collecting the data for : Delaware (FIPS: 10)\n",
      "Collecting the data for : Florida (FIPS: 12)\n",
      "Collecting the data for : Georgia (FIPS: 13)\n",
      "Collecting the data for : Hawaii (FIPS: 15)\n",
      "Collecting the data for : Idaho (FIPS: 16)\n",
      "Collecting the data for : Illinois (FIPS: 17)\n",
      "Collecting the data for : Indiana (FIPS: 18)\n",
      "Collecting the data for : Iowa (FIPS: 19)\n",
      "Collecting the data for : Kansas (FIPS: 20)\n",
      "Collecting the data for : Kentucky (FIPS: 21)\n",
      "Collecting the data for : Louisiana (FIPS: 22)\n",
      "Collecting the data for : Maine (FIPS: 23)\n",
      "Collecting the data for : Maryland (FIPS: 24)\n",
      "Collecting the data for : Massachusetts (FIPS: 25)\n",
      "Collecting the data for : Michigan (FIPS: 26)\n",
      "Collecting the data for : Minnesota (FIPS: 27)\n",
      "Collecting the data for : Mississippi (FIPS: 28)\n",
      "Collecting the data for : Missouri (FIPS: 29)\n",
      "Collecting the data for : Montana (FIPS: 30)\n",
      "Collecting the data for : Nebraska (FIPS: 31)\n",
      "Collecting the data for : Nevada (FIPS: 32)\n",
      "Collecting the data for : New Hampshire (FIPS: 33)\n",
      "Collecting the data for : New Jersey (FIPS: 34)\n",
      "Collecting the data for : New Mexico (FIPS: 35)\n",
      "Collecting the data for : New York (FIPS: 36)\n",
      "Collecting the data for : North Carolina (FIPS: 37)\n",
      "Collecting the data for : North Dakota (FIPS: 38)\n",
      "Collecting the data for : Ohio (FIPS: 39)\n",
      "Collecting the data for : Oklahoma (FIPS: 40)\n",
      "Collecting the data for : Oregon (FIPS: 41)\n",
      "Collecting the data for : Pennsylvania (FIPS: 42)\n",
      "Collecting the data for : Rhode Island (FIPS: 44)\n",
      "Collecting the data for : South Carolina (FIPS: 45)\n",
      "Collecting the data for : South Dakota (FIPS: 46)\n",
      "Collecting the data for : Tennessee (FIPS: 47)\n",
      "Collecting the data for : Texas (FIPS: 48)\n",
      "Collecting the data for : Utah (FIPS: 49)\n",
      "Collecting the data for : Vermont (FIPS: 50)\n",
      "Collecting the data for : Virginia (FIPS: 51)\n",
      "Collecting the data for : Washington (FIPS: 53)\n",
      "Collecting the data for : West Virginia (FIPS: 54)\n",
      "Collecting the data for : Wisconsin (FIPS: 55)\n",
      "Collecting the data for : Wyoming (FIPS: 56)\n"
     ]
    }
   ],
   "source": [
    "#pulling data at county level for total pop, med household income, and below povert level numbers using census API\n",
    "\n",
    "#--------------------------------------------------Set API key------------------------------------------------------------------------------------\n",
    "c = Census(\"CENSUS_API_KEY",
    "#---------------------------------Selection of Data from American Community Survey 2022 5-Year-----------------------------------------------------------\n",
    "fields = (\n",
    "    'NAME', # County_State\n",
    "'B01003_001E',\n",
    "'B19013_001E',\n",
    "'B17001_002E'\n",
    " \n",
    ")\n",
    "#state_county(fields, state_fips, county_fips)\n",
    "us_df = pd.DataFrame()\n",
    "for state in states.STATES:\n",
    "    state_fips = state.fips\n",
    "    print(f\"Collecting the data for : {state.name} (FIPS: {state_fips})\")\n",
    "    state_data = c.acs5.state_county(fields=fields, state_fips=state_fips, county_fips=\"*\", year=2022)\n",
    "    state_df = pd.DataFrame(state_data)\n",
    "    us_df = pd.concat([us_df, state_df], ignore_index=True)\n",
    "    #-----------------------------------------------Rename the Relevant Columns---------------------------------------------------------------------\n",
    "us_df.rename(columns={\n",
    "    'NAME'       : 'County_State',\n",
    "    'name_and_fips': 'name_and_fips',\n",
    "    'B01003_001E': 'Total Population',\n",
    "    'B19013_001E': 'Median Household Income',\n",
    "    'B17001_002E': 'Below Poverty Level',\n",
    "                       }, inplace=True)\n",
    " #--------------------------------------------------Create GEOID Column------------------------------------------------------------------------\n",
    "us_df['GEOID'] = us_df['state'].astype(str) + us_df['county'].astype(str)\n",
    "#--------------------------------------------------Display the DataFrame------------------------------------------------------------------------\n"
   ]
  },
  {
   "cell_type": "code",
   "execution_count": 10,
   "id": "a6400d16-11d2-4dd7-acea-276fc3d510bb",
   "metadata": {},
   "outputs": [],
   "source": [
    "#converting collected data to csv to merge with other data\n",
    "us_df.to_csv('census2.csv', index=False)"
   ]
  },
  {
   "cell_type": "code",
   "execution_count": 1,
   "id": "dc2630cc-8ffe-4985-a992-c73e156fc783",
   "metadata": {},
   "outputs": [
    {
     "name": "stdout",
     "output_type": "stream",
     "text": [
      "Collecting the data for: Richmond County, VA (State FIPS: 51, County FIPS: 159)\n",
      "                County_State  Total Population  Median Household Income  \\\n",
      "0  Richmond County, Virginia            8968.0                  62708.0   \n",
      "\n",
      "   Below Poverty Level state county  GEOID  \n",
      "0                556.0    51    159  51159  \n"
     ]
    }
   ],
   "source": [
    "#individual pull from census data to check Richmond County, VA\n",
    "from census import Census\n",
    "import pandas as pd\n",
    "\n",
    "# Set your Census API key here\n",
    "c = Census(\"CENSUSAPIKEY",
    "\n",
    "# Selection of Data from American Community Survey 2022 5-Year\n",
    "fields = (\n",
    "    'NAME',  # County_State\n",
    "    'B01003_001E',  # Total Population\n",
    "    'B19013_001E',  # Median Household Income\n",
    "    'B17001_002E'   # Below Poverty Level\n",
    ")\n",
    "\n",
    "# Initialize an empty DataFrame to store the data\n",
    "us_df = pd.DataFrame()\n",
    "\n",
    "# Collect data for Richmond County, VA (state FIPS code: 51, county FIPS code: 159)\n",
    "state_fips = '51'  # FIPS code for Virginia\n",
    "county_fips = '159'  # FIPS code for Richmond County\n",
    "print(f\"Collecting the data for: Richmond County, VA (State FIPS: {state_fips}, County FIPS: {county_fips})\")\n",
    "county_data = c.acs5.state_county(fields=fields, state_fips=state_fips, county_fips=county_fips, year=2022)\n",
    "county_df = pd.DataFrame(county_data)\n",
    "\n",
    "# Concatenate the county data to the overall DataFrame\n",
    "us_df = pd.concat([us_df, county_df], ignore_index=True)\n",
    "\n",
    "# Rename the relevant columns\n",
    "us_df.rename(columns={\n",
    "    'NAME': 'County_State',\n",
    "    'B01003_001E': 'Total Population',\n",
    "    'B19013_001E': 'Median Household Income',\n",
    "    'B17001_002E': 'Below Poverty Level'\n",
    "}, inplace=True)\n",
    "\n",
    "# Create GEOID column\n",
    "us_df['GEOID'] = us_df['state'].astype(str) + us_df['county'].astype(str)\n",
    "\n",
    "# Display the DataFrame\n",
    "print(us_df)\n"
   ]
  }
 ],
 "metadata": {
  "kernelspec": {
   "display_name": "Python 3 (ipykernel)",
   "language": "python",
   "name": "python3"
  },
  "language_info": {
   "codemirror_mode": {
    "name": "ipython",
    "version": 3
   },
   "file_extension": ".py",
   "mimetype": "text/x-python",
   "name": "python",
   "nbconvert_exporter": "python",
   "pygments_lexer": "ipython3",
   "version": "3.11.0rc1"
  }
 },
 "nbformat": 4,
 "nbformat_minor": 5
}
