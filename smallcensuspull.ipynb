{
 "cells": [
  {
   "cell_type": "markdown",
   "id": "79989ad8-2794-4ab8-9bcf-6c18f2ccb7c9",
   "metadata": {},
   "source": [
    "### Import Modules"
   ]
  },
  {
   "cell_type": "code",
   "execution_count": null,
   "id": "bfbac045-e1f7-4034-a094-d96aabc2eb5c",
   "metadata": {},
   "outputs": [],
   "source": [
    "pip install cenpy"
   ]
  },
  {
   "cell_type": "code",
   "execution_count": null,
   "id": "0a51b01d-c959-4791-825f-f4a75d2d094e",
   "metadata": {},
   "outputs": [],
   "source": [
    "pip show cenpy"
   ]
  },
  {
   "cell_type": "code",
   "execution_count": null,
   "id": "804b4add-daa4-4a99-9206-a65177102757",
   "metadata": {},
   "outputs": [],
   "source": [
    "pip install census"
   ]
  },
  {
   "cell_type": "code",
   "execution_count": null,
   "id": "c323b9f8-8414-43dc-a361-d4e5d6dc5fd4",
   "metadata": {},
   "outputs": [],
   "source": [
    "pip install us"
   ]
  },
  {
   "cell_type": "code",
   "execution_count": null,
   "id": "359f8166-5978-4bd9-9933-6997b6077c9a",
   "metadata": {},
   "outputs": [],
   "source": [
    "#-------------------------------------------------Import modules----------------------------------------------------------------------------------\n",
    "import matplotlib.pyplot as plt\n",
    "import pandas as pd\n",
    "import geopandas as gpd\n",
    "from census import Census\n",
    "from us import states\n",
    "import os\n",
    "import requests\n",
    "%config InlineBackend.figure_format ='retina'"
   ]
  },
  {
   "cell_type": "markdown",
   "id": "57b63844-ad22-47fe-950f-c6352fdbfdfe",
   "metadata": {},
   "source": [
    "### Small Census Pull"
   ]
  },
  {
   "cell_type": "code",
   "execution_count": null,
   "id": "c572ff31-a29f-4167-b26f-df21a3103379",
   "metadata": {},
   "outputs": [],
   "source": [
    "#pulling data at county level for total pop, med household income, and below povert level numbers using census API\n",
    "\n",
    "#--------------------------------------------------Set API key------------------------------------------------------------------------------------\n",
    "c = Census(\"yourkey\")\n",
    "#---------------------------------Selection of Data from American Community Survey 2022 5-Year-----------------------------------------------------------\n",
    "fields = (\n",
    "    'NAME', # County_State\n",
    "'B01003_001E',\n",
    "'B19013_001E',\n",
    "'B17001_002E'\n",
    " \n",
    ")\n",
    "#state_county(fields, state_fips, county_fips)\n",
    "us_df = pd.DataFrame()\n",
    "for state in states.STATES:\n",
    "    state_fips = state.fips\n",
    "    print(f\"Collecting the data for : {state.name} (FIPS: {state_fips})\")\n",
    "    state_data = c.acs5.state_county(fields=fields, state_fips=state_fips, county_fips=\"*\", year=2022)\n",
    "    state_df = pd.DataFrame(state_data)\n",
    "    us_df = pd.concat([us_df, state_df], ignore_index=True)\n",
    "    #-----------------------------------------------Rename the Relevant Columns---------------------------------------------------------------------\n",
    "us_df.rename(columns={\n",
    "    'NAME'       : 'County_State',\n",
    "    'name_and_fips': 'name_and_fips',\n",
    "    'B01003_001E': 'Total Population',\n",
    "    'B19013_001E': 'Median Household Income',\n",
    "    'B17001_002E': 'Below Poverty Level',\n",
    "                       }, inplace=True)\n",
    " #--------------------------------------------------Create GEOID Column------------------------------------------------------------------------\n",
    "us_df['GEOID'] = us_df['state'].astype(str) + us_df['county'].astype(str)\n",
    "#--------------------------------------------------Display the DataFrame------------------------------------------------------------------------"
   ]
  },
  {
   "cell_type": "code",
   "execution_count": null,
   "id": "2289954d-ee50-4376-8738-cae98f0d0b98",
   "metadata": {},
   "outputs": [],
   "source": [
    "#individual pull from census data to check Richmond County, VA\n",
    "from census import Census\n",
    "import pandas as pd\n",
    "\n",
    "# Set your Census API key here\n",
    "c = Census(\"yourkey\")\n",
    "\n",
    "# Selection of Data from American Community Survey 2022 5-Year\n",
    "fields = (\n",
    "    'NAME',  # County_State\n",
    "    'B01003_001E',  # Total Population\n",
    "    'B19013_001E',  # Median Household Income\n",
    "    'B17001_002E'   # Below Poverty Level\n",
    ")\n",
    "\n",
    "# Initialize an empty DataFrame to store the data\n",
    "us_df = pd.DataFrame()\n",
    "\n",
    "# Collect data for Richmond County, VA (state FIPS code: 51, county FIPS code: 159)\n",
    "state_fips = '51'  # FIPS code for Virginia\n",
    "county_fips = '159'  # FIPS code for Richmond County\n",
    "print(f\"Collecting the data for: Richmond County, VA (State FIPS: {state_fips}, County FIPS: {county_fips})\")\n",
    "county_data = c.acs5.state_county(fields=fields, state_fips=state_fips, county_fips=county_fips, year=2022)\n",
    "county_df = pd.DataFrame(county_data)\n",
    "\n",
    "# Concatenate the county data to the overall DataFrame\n",
    "us_df = pd.concat([us_df, county_df], ignore_index=True)\n",
    "\n",
    "# Rename the relevant columns\n",
    "us_df.rename(columns={\n",
    "    'NAME': 'County_State',\n",
    "    'B01003_001E': 'Total Population',\n",
    "    'B19013_001E': 'Median Household Income',\n",
    "    'B17001_002E': 'Below Poverty Level'\n",
    "}, inplace=True)\n",
    "\n",
    "# Create GEOID column\n",
    "us_df['GEOID'] = us_df['state'].astype(str) + us_df['county'].astype(str)\n",
    "\n",
    "# Display the DataFrame\n",
    "print(us_df)"
   ]
  },
  {
   "cell_type": "code",
   "execution_count": null,
   "id": "a46711e8-42e9-45bb-ac1a-db86fce0fb83",
   "metadata": {},
   "outputs": [],
   "source": [
    "#pulling data at county level for total pop for 2021 using census API\n",
    "\n",
    "#--------------------------------------------------Set API key------------------------------------------------------------------------------------\n",
    "c = Census(\"yourkey\")\n",
    "#---------------------------------Selection of Data from American Community Survey 2022 5-Year-----------------------------------------------------------\n",
    "fields = (\n",
    "    'NAME', # County_State\n",
    "'B01003_001E',\n",
    ")\n",
    "#state_county(fields, state_fips, county_fips)\n",
    "us_df = pd.DataFrame()\n",
    "for state in states.STATES:\n",
    "    state_fips = state.fips\n",
    "    print(f\"Collecting the data for : {state.name} (FIPS: {state_fips})\")\n",
    "    state_data = c.acs5.state_county(fields=fields, state_fips=state_fips, county_fips=\"*\", year=2021)\n",
    "    state_df = pd.DataFrame(state_data)\n",
    "    us_df = pd.concat([us_df, state_df], ignore_index=True)\n",
    "    #-----------------------------------------------Rename the Relevant Columns---------------------------------------------------------------------\n",
    "us_df.rename(columns={\n",
    "    'NAME'       : 'County_State',\n",
    "    'name_and_fips': 'name_and_fips',\n",
    "    'B01003_001E': 'Total Population',\n",
    "                       }, inplace=True)\n",
    " #--------------------------------------------------Create GEOID Column------------------------------------------------------------------------\n",
    "us_df['GEOID'] = us_df['state'].astype(str) + us_df['county'].astype(str)\n",
    "#--------------------------------------------------Display the DataFrame------------------------------------------------------------------------"
   ]
  }
 ],
 "metadata": {
  "kernelspec": {
   "display_name": "Python 3 (ipykernel)",
   "language": "python",
   "name": "python3"
  },
  "language_info": {
   "codemirror_mode": {
    "name": "ipython",
    "version": 3
   },
   "file_extension": ".py",
   "mimetype": "text/x-python",
   "name": "python",
   "nbconvert_exporter": "python",
   "pygments_lexer": "ipython3",
   "version": "3.11.0rc1"
  }
 },
 "nbformat": 4,
 "nbformat_minor": 5
}
